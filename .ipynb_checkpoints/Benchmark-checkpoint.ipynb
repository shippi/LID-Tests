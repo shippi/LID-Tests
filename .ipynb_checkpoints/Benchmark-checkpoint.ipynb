{
 "cells": [
  {
   "cell_type": "code",
   "execution_count": null,
   "id": "3b512de7",
   "metadata": {},
   "outputs": [],
   "source": [
    "import string\n",
    "import pandas as pd\n",
    "import numpy\n",
    "import scipy\n",
    "import fasttext\n",
    "from sklearn.model_selection import train_test_split"
   ]
  },
  {
   "cell_type": "markdown",
   "id": "8eaac675",
   "metadata": {},
   "source": [
    "# 1. Preprocessing Data\n",
    "## 1.1 Removing punctuation "
   ]
  },
  {
   "cell_type": "code",
   "execution_count": null,
   "id": "4f18b384",
   "metadata": {
    "scrolled": true
   },
   "outputs": [],
   "source": [
    "df = pd.read_csv('sentences.csv')\n",
    "df = df.drop(columns=['id'])"
   ]
  },
  {
   "cell_type": "code",
   "execution_count": null,
   "id": "e9422932",
   "metadata": {},
   "outputs": [],
   "source": [
    "PUNCTUATION = \"!\\\"#$%&'()*+,-./:;<=>?@[\\]^_`{|}~？。！\"\n",
    "def format_text(text):\n",
    "    text.lower()\n",
    "    for pun in PUNCTUATION:\n",
    "        text = text.replace(pun, \"\")\n",
    "    return text"
   ]
  },
  {
   "cell_type": "code",
   "execution_count": null,
   "id": "8a6ba0b9",
   "metadata": {},
   "outputs": [],
   "source": [
    "df['sentence'] = df['sentence'].apply(format_text)"
   ]
  },
  {
   "cell_type": "markdown",
   "id": "b69adc77",
   "metadata": {},
   "source": [
    "## 1.2 Filter out sentences longer than 20 characters"
   ]
  },
  {
   "cell_type": "code",
   "execution_count": null,
   "id": "7bf55aba",
   "metadata": {},
   "outputs": [],
   "source": [
    "df_filtered = df[df['sentence'].str.len() < 20] "
   ]
  },
  {
   "cell_type": "markdown",
   "id": "6b927cae",
   "metadata": {},
   "source": [
    "## 1.3 Filter out languages with less than 50000 rows"
   ]
  },
  {
   "cell_type": "code",
   "execution_count": null,
   "id": "c77d7e5c",
   "metadata": {},
   "outputs": [],
   "source": [
    "df_filtered2 = df_filtered.groupby('lan_code').filter(lambda x : len(x) > 50000)\n",
    "df_filtered2.groupby('lan_code').count()"
   ]
  },
  {
   "cell_type": "markdown",
   "id": "35cc1a72",
   "metadata": {},
   "source": [
    "## 1.4 Splitting into training and testing data"
   ]
  },
  {
   "cell_type": "code",
   "execution_count": null,
   "id": "495340cd",
   "metadata": {},
   "outputs": [],
   "source": [
    "df_filtered2['final_data'] = \"__label__\"+df_filtered2['lan_code']+\" \"+df_filtered2['sentence']\n",
    "\n",
    "train, test = train_test_split(df_filtered2, test_size=0.3)\n",
    "\n",
    "train.to_csv('training_data.txt', encoding=\"utf-8\",columns=['final_data'],index=False,header=False)\n",
    "test.to_csv('testing_data.txt', encoding=\"utf-8\",columns=['final_data'],index=False,header=False)"
   ]
  },
  {
   "cell_type": "markdown",
   "id": "c5a85ea2",
   "metadata": {},
   "source": [
    "### 1.4.1 Training data"
   ]
  },
  {
   "cell_type": "code",
   "execution_count": null,
   "id": "84e9d856",
   "metadata": {},
   "outputs": [],
   "source": [
    "print(train.groupby('lan_code').count())"
   ]
  },
  {
   "cell_type": "markdown",
   "id": "007efde8",
   "metadata": {},
   "source": [
    "### 1.4.2 Testing data"
   ]
  },
  {
   "cell_type": "code",
   "execution_count": null,
   "id": "89103016",
   "metadata": {},
   "outputs": [],
   "source": [
    "print(test.groupby('lan_code').count())"
   ]
  },
  {
   "cell_type": "markdown",
   "id": "f1148f8b",
   "metadata": {},
   "source": [
    "# 2 Training Model"
   ]
  },
  {
   "cell_type": "markdown",
   "id": "7b571d44",
   "metadata": {},
   "source": [
    "## 2.1 Training FastText model using training data"
   ]
  },
  {
   "cell_type": "code",
   "execution_count": null,
   "id": "fdee7993",
   "metadata": {},
   "outputs": [],
   "source": [
    "myModel = fasttext.train_supervised(input=\"training_data.txt\")"
   ]
  },
  {
   "cell_type": "markdown",
   "id": "ab2f47cc",
   "metadata": {},
   "source": [
    "## 2.1 Testing trained FastText model using testing data"
   ]
  },
  {
   "cell_type": "code",
   "execution_count": null,
   "id": "534206ee",
   "metadata": {},
   "outputs": [],
   "source": [
    "myModel.test(\"testing_data.txt\")"
   ]
  },
  {
   "cell_type": "code",
   "execution_count": null,
   "id": "bec9b14d",
   "metadata": {},
   "outputs": [],
   "source": [
    "myModel.predict(\"hola\")"
   ]
  },
  {
   "cell_type": "code",
   "execution_count": null,
   "id": "03c96f43",
   "metadata": {},
   "outputs": [],
   "source": []
  }
 ],
 "metadata": {
  "kernelspec": {
   "display_name": "Python 3 (ipykernel)",
   "language": "python",
   "name": "python3"
  },
  "language_info": {
   "codemirror_mode": {
    "name": "ipython",
    "version": 3
   },
   "file_extension": ".py",
   "mimetype": "text/x-python",
   "name": "python",
   "nbconvert_exporter": "python",
   "pygments_lexer": "ipython3",
   "version": "3.10.9"
  }
 },
 "nbformat": 4,
 "nbformat_minor": 5
}
