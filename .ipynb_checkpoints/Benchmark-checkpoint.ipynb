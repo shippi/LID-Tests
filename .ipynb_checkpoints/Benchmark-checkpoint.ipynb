{
 "cells": [
  {
   "cell_type": "code",
   "execution_count": 2,
   "id": "3b512de7",
   "metadata": {},
   "outputs": [],
   "source": [
    "import string\n",
    "import pandas as pd\n",
    "import numpy\n",
    "import scipy\n",
    "import fasttext\n",
    "from sklearn.model_selection import train_test_split"
   ]
  },
  {
   "cell_type": "markdown",
   "id": "4a887ad4",
   "metadata": {},
   "source": [
    "# 1. Preprocessing Data\n",
    "## 1.1 Removing punctuation "
   ]
  },
  {
   "cell_type": "code",
   "execution_count": 3,
   "id": "4f18b384",
   "metadata": {
    "scrolled": true
   },
   "outputs": [],
   "source": [
    "df = pd.read_csv('sentences.csv')\n",
    "df = df.drop(columns=['id'])"
   ]
  },
  {
   "cell_type": "code",
   "execution_count": 4,
   "id": "e9422932",
   "metadata": {},
   "outputs": [],
   "source": [
    "PUNCTUATION = \"!\\\"#$%&'()*+,-./:;<=>?@[\\]^_`{|}~？。！\"\n",
    "def format_text(text):\n",
    "    text.lower()\n",
    "    for pun in PUNCTUATION:\n",
    "        text = text.replace(pun, \"\")\n",
    "    return text"
   ]
  },
  {
   "cell_type": "code",
   "execution_count": 5,
   "id": "8a6ba0b9",
   "metadata": {},
   "outputs": [],
   "source": [
    "df['sentence'] = df['sentence'].apply(format_text)"
   ]
  },
  {
   "cell_type": "markdown",
   "id": "61407773",
   "metadata": {},
   "source": [
    "## 1.2 Filter out sentences longer than 20 characters"
   ]
  },
  {
   "cell_type": "code",
   "execution_count": 6,
   "id": "7bf55aba",
   "metadata": {},
   "outputs": [],
   "source": [
    "df_filtered = df[df['sentence'].str.len() < 20] "
   ]
  },
  {
   "cell_type": "markdown",
   "id": "9c4f4b6a",
   "metadata": {},
   "source": [
    "## 1.3 Filter out languages with less than 50000 rows"
   ]
  },
  {
   "cell_type": "code",
   "execution_count": 7,
   "id": "84986ea1",
   "metadata": {},
   "outputs": [
    {
     "data": {
      "text/html": [
       "<div>\n",
       "<style scoped>\n",
       "    .dataframe tbody tr th:only-of-type {\n",
       "        vertical-align: middle;\n",
       "    }\n",
       "\n",
       "    .dataframe tbody tr th {\n",
       "        vertical-align: top;\n",
       "    }\n",
       "\n",
       "    .dataframe thead th {\n",
       "        text-align: right;\n",
       "    }\n",
       "</style>\n",
       "<table border=\"1\" class=\"dataframe\">\n",
       "  <thead>\n",
       "    <tr style=\"text-align: right;\">\n",
       "      <th></th>\n",
       "      <th>sentence</th>\n",
       "    </tr>\n",
       "    <tr>\n",
       "      <th>lan_code</th>\n",
       "      <th></th>\n",
       "    </tr>\n",
       "  </thead>\n",
       "  <tbody>\n",
       "    <tr>\n",
       "      <th>ber</th>\n",
       "      <td>107783</td>\n",
       "    </tr>\n",
       "    <tr>\n",
       "      <th>cmn</th>\n",
       "      <td>68343</td>\n",
       "    </tr>\n",
       "    <tr>\n",
       "      <th>eng</th>\n",
       "      <td>149655</td>\n",
       "    </tr>\n",
       "    <tr>\n",
       "      <th>epo</th>\n",
       "      <td>79445</td>\n",
       "    </tr>\n",
       "    <tr>\n",
       "      <th>fra</th>\n",
       "      <td>59371</td>\n",
       "    </tr>\n",
       "    <tr>\n",
       "      <th>heb</th>\n",
       "      <td>79298</td>\n",
       "    </tr>\n",
       "    <tr>\n",
       "      <th>hun</th>\n",
       "      <td>75734</td>\n",
       "    </tr>\n",
       "    <tr>\n",
       "      <th>ita</th>\n",
       "      <td>128868</td>\n",
       "    </tr>\n",
       "    <tr>\n",
       "      <th>jpn</th>\n",
       "      <td>158953</td>\n",
       "    </tr>\n",
       "    <tr>\n",
       "      <th>kab</th>\n",
       "      <td>154835</td>\n",
       "    </tr>\n",
       "    <tr>\n",
       "      <th>por</th>\n",
       "      <td>53558</td>\n",
       "    </tr>\n",
       "    <tr>\n",
       "      <th>rus</th>\n",
       "      <td>170311</td>\n",
       "    </tr>\n",
       "    <tr>\n",
       "      <th>spa</th>\n",
       "      <td>52397</td>\n",
       "    </tr>\n",
       "    <tr>\n",
       "      <th>tur</th>\n",
       "      <td>98044</td>\n",
       "    </tr>\n",
       "    <tr>\n",
       "      <th>ukr</th>\n",
       "      <td>50913</td>\n",
       "    </tr>\n",
       "  </tbody>\n",
       "</table>\n",
       "</div>"
      ],
      "text/plain": [
       "          sentence\n",
       "lan_code          \n",
       "ber         107783\n",
       "cmn          68343\n",
       "eng         149655\n",
       "epo          79445\n",
       "fra          59371\n",
       "heb          79298\n",
       "hun          75734\n",
       "ita         128868\n",
       "jpn         158953\n",
       "kab         154835\n",
       "por          53558\n",
       "rus         170311\n",
       "spa          52397\n",
       "tur          98044\n",
       "ukr          50913"
      ]
     },
     "execution_count": 7,
     "metadata": {},
     "output_type": "execute_result"
    }
   ],
   "source": [
    "df_filtered2 = df_filtered.groupby('lan_code').filter(lambda x : len(x) > 50000)\n",
    "df_filtered2.groupby('lan_code').count()"
   ]
  },
  {
   "cell_type": "markdown",
   "id": "b2dc5112",
   "metadata": {},
   "source": [
    "## 1.4 Splitting into training and testing data"
   ]
  },
  {
   "cell_type": "code",
   "execution_count": 11,
   "id": "067d1bf2",
   "metadata": {},
   "outputs": [],
   "source": [
    "df_filtered2['final_data'] = \"__label__\"+ df_filtered2['lan_code'] + \" \" + df_filtered2['sentence']\n",
    "\n",
    "train, test = train_test_split(df_filtered2, test_size=0.3)\n",
    "\n",
    "train.to_csv('training_data.txt', encoding=\"utf-8\",columns=['final_data'],index=False,header=False)\n",
    "test.to_csv('testing_data.txt', encoding=\"utf-8\",columns=['final_data'],index=False,header=False)"
   ]
  },
  {
   "cell_type": "code",
   "execution_count": 19,
   "id": "86b3dc5e",
   "metadata": {},
   "outputs": [],
   "source": [
    "train.sort_values(by=['lan_code'], inplace=True)\n",
    "test.sort_values(by=['lan_code'], inplace=True)"
   ]
  },
  {
   "cell_type": "code",
   "execution_count": 30,
   "id": "fb5c262e",
   "metadata": {},
   "outputs": [],
   "source": [
    "for ind in train.index:\n",
    "    fileName = \"corpus/\" + df['lan_code'][ind] + \"/file.txt\"\n",
    "    f = open(fileName, \"a\", encoding=\"utf-8\")\n",
    "    f.write(df['sentence'][ind] + \"\\n\")\n",
    "    f.close()"
   ]
  },
  {
   "cell_type": "markdown",
   "id": "df6ebcf8",
   "metadata": {},
   "source": [
    "### 1.4.1 Training data"
   ]
  },
  {
   "cell_type": "code",
   "execution_count": 13,
   "id": "d070b2ea",
   "metadata": {},
   "outputs": [
    {
     "name": "stdout",
     "output_type": "stream",
     "text": [
      "          sentence  final_data\n",
      "lan_code                      \n",
      "ber          75463       75463\n",
      "cmn          47865       47865\n",
      "eng         105129      105129\n",
      "epo          55646       55646\n",
      "fra          41537       41537\n",
      "heb          55243       55243\n",
      "hun          53032       53032\n",
      "ita          90296       90296\n",
      "jpn         111318      111318\n",
      "kab         108169      108169\n",
      "por          37479       37479\n",
      "rus         119235      119235\n",
      "spa          36467       36467\n",
      "tur          68774       68774\n",
      "ukr          35602       35602\n"
     ]
    }
   ],
   "source": [
    "print(train.groupby('lan_code').count())"
   ]
  },
  {
   "cell_type": "markdown",
   "id": "b2d2bbc6",
   "metadata": {},
   "source": [
    "### 1.4.2 Testing data"
   ]
  },
  {
   "cell_type": "code",
   "execution_count": 14,
   "id": "dd089195",
   "metadata": {},
   "outputs": [
    {
     "name": "stdout",
     "output_type": "stream",
     "text": [
      "          sentence  final_data\n",
      "lan_code                      \n",
      "ber          32320       32320\n",
      "cmn          20478       20478\n",
      "eng          44526       44526\n",
      "epo          23799       23799\n",
      "fra          17834       17834\n",
      "heb          24055       24055\n",
      "hun          22702       22702\n",
      "ita          38572       38572\n",
      "jpn          47635       47635\n",
      "kab          46666       46666\n",
      "por          16079       16079\n",
      "rus          51076       51076\n",
      "spa          15930       15930\n",
      "tur          29270       29270\n",
      "ukr          15311       15311\n"
     ]
    }
   ],
   "source": [
    "print(test.groupby('lan_code').count())"
   ]
  },
  {
   "cell_type": "markdown",
   "id": "f90c83c0",
   "metadata": {},
   "source": [
    "# 2 Training Model"
   ]
  },
  {
   "cell_type": "markdown",
   "id": "3d530ef1",
   "metadata": {},
   "source": [
    "## 2.1 Training FastText model using training data"
   ]
  },
  {
   "cell_type": "code",
   "execution_count": 15,
   "id": "fd3d47a2",
   "metadata": {},
   "outputs": [],
   "source": [
    "myModel = fasttext.train_supervised(input=\"training_data.txt\")"
   ]
  },
  {
   "cell_type": "markdown",
   "id": "40ad0d8e",
   "metadata": {},
   "source": [
    "## 2.1 Testing trained FastText model using testing data"
   ]
  },
  {
   "cell_type": "code",
   "execution_count": 16,
   "id": "f9e78383",
   "metadata": {},
   "outputs": [
    {
     "data": {
      "text/plain": [
       "(446253, 0.8783604816102076, 0.8783604816102076)"
      ]
     },
     "execution_count": 16,
     "metadata": {},
     "output_type": "execute_result"
    }
   ],
   "source": [
    "myModel.test(\"testing_data.txt\")"
   ]
  },
  {
   "cell_type": "code",
   "execution_count": 17,
   "id": "598b13b1",
   "metadata": {},
   "outputs": [
    {
     "data": {
      "text/plain": [
       "(('__label__spa',), array([0.79914647]))"
      ]
     },
     "execution_count": 17,
     "metadata": {},
     "output_type": "execute_result"
    }
   ],
   "source": [
    "myModel.predict(\"hola\")"
   ]
  }
 ],
 "metadata": {
  "kernelspec": {
   "display_name": "Python 3 (ipykernel)",
   "language": "python",
   "name": "python3"
  },
  "language_info": {
   "codemirror_mode": {
    "name": "ipython",
    "version": 3
   },
   "file_extension": ".py",
   "mimetype": "text/x-python",
   "name": "python",
   "nbconvert_exporter": "python",
   "pygments_lexer": "ipython3",
   "version": "3.10.9"
  }
 },
 "nbformat": 4,
 "nbformat_minor": 5
}
