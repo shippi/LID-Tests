{
 "cells": [
  {
   "cell_type": "code",
   "execution_count": 24,
   "id": "daa45f4e",
   "metadata": {},
   "outputs": [],
   "source": [
    "import langid"
   ]
  },
  {
   "cell_type": "code",
   "execution_count": 25,
   "id": "fe632454",
   "metadata": {},
   "outputs": [],
   "source": [
    "langid.load_model('model')"
   ]
  },
  {
   "cell_type": "code",
   "execution_count": 28,
   "id": "bbbadfbf",
   "metadata": {},
   "outputs": [
    {
     "name": "stdout",
     "output_type": "stream",
     "text": [
      "Accuracy: 0.8169805020918627\n"
     ]
    }
   ],
   "source": [
    "f = open(\"langid_testing_data.txt\", \"r\", encoding=\"utf-8\")\n",
    "count = 0\n",
    "correct = 0\n",
    "\n",
    "while True:\n",
    "    line = f.readline()\n",
    "    sentence = line.split(\",\")\n",
    "    \n",
    "    if not line:\n",
    "        break\n",
    "        \n",
    "    count += 1\n",
    "    prediction = langid.identifier.classify(sentence[1])\n",
    "    if(prediction[0] == sentence[0]):\n",
    "        correct += 1\n",
    "\n",
    "print(\"Accuracy: \" + str(correct/count))\n",
    "        "
   ]
  },
  {
   "cell_type": "code",
   "execution_count": 32,
   "id": "07ff8e49",
   "metadata": {},
   "outputs": [
    {
     "data": {
      "text/plain": [
       "('kab', -12.326154835248246)"
      ]
     },
     "execution_count": 32,
     "metadata": {},
     "output_type": "execute_result"
    }
   ],
   "source": [
    "langid.identifier.classify(\"Irakent\")"
   ]
  },
  {
   "cell_type": "code",
   "execution_count": null,
   "id": "08135dc9",
   "metadata": {},
   "outputs": [],
   "source": []
  }
 ],
 "metadata": {
  "kernelspec": {
   "display_name": "Python 3 (ipykernel)",
   "language": "python",
   "name": "python3"
  },
  "language_info": {
   "codemirror_mode": {
    "name": "ipython",
    "version": 3
   },
   "file_extension": ".py",
   "mimetype": "text/x-python",
   "name": "python",
   "nbconvert_exporter": "python",
   "pygments_lexer": "ipython3",
   "version": "3.10.9"
  }
 },
 "nbformat": 4,
 "nbformat_minor": 5
}
