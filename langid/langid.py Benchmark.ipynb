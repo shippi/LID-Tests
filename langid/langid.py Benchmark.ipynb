{
 "cells": [
  {
   "cell_type": "code",
   "execution_count": 7,
   "id": "daa45f4e",
   "metadata": {},
   "outputs": [],
   "source": [
    "import langid"
   ]
  },
  {
   "cell_type": "code",
   "execution_count": 8,
   "id": "fe632454",
   "metadata": {},
   "outputs": [],
   "source": [
    "langid.load_model('model')"
   ]
  },
  {
   "cell_type": "code",
   "execution_count": null,
   "id": "5c50fe5e",
   "metadata": {},
   "outputs": [],
   "source": []
  },
  {
   "cell_type": "code",
   "execution_count": 9,
   "id": "bbbadfbf",
   "metadata": {},
   "outputs": [
    {
     "name": "stdout",
     "output_type": "stream",
     "text": [
      "Accuracy: 0.8169805020918627\n"
     ]
    }
   ],
   "source": [
    "f = open(\"langid_testing_data.txt\", \"r\", encoding=\"utf-8\")\n",
    "count = 0\n",
    "correct = 0\n",
    "\n",
    "while True:\n",
    "    line = f.readline()\n",
    "    sentence = line.split(\",\")\n",
    "    \n",
    "    if not line:\n",
    "        break\n",
    "        \n",
    "    count += 1\n",
    "    prediction = langid.identifier.classify(sentence[1])\n",
    "    if(prediction[0] == sentence[0]):\n",
    "        correct += 1\n",
    "\n",
    "print(\"Accuracy: \" + str(correct/count))\n",
    "        "
   ]
  },
  {
   "cell_type": "markdown",
   "id": "b31507d2",
   "metadata": {},
   "source": [
    "# 2. Training and Testing Using QID21 dataset"
   ]
  },
  {
   "cell_type": "code",
   "execution_count": 10,
   "id": "07ff8e49",
   "metadata": {},
   "outputs": [],
   "source": [
    "langid.load_model('QID21_model')"
   ]
  },
  {
   "cell_type": "code",
   "execution_count": 11,
   "id": "08135dc9",
   "metadata": {},
   "outputs": [
    {
     "name": "stdout",
     "output_type": "stream",
     "text": [
      "Accuracy: 0.6759601706970128\n"
     ]
    }
   ],
   "source": [
    "f = open(\"langid_QID21_testing_data.txt\", \"r\", encoding=\"utf-8\")\n",
    "count = 0\n",
    "correct = 0\n",
    "\n",
    "while True:\n",
    "    line = f.readline()\n",
    "    sentence = line.split(\",\")\n",
    "    \n",
    "    if not line:\n",
    "        break\n",
    "        \n",
    "    count += 1\n",
    "    prediction = langid.identifier.classify(sentence[1])\n",
    "    if(prediction[0] == sentence[0]):\n",
    "        correct += 1\n",
    "\n",
    "print(\"Accuracy: \" + str(correct/count))\n",
    "        "
   ]
  },
  {
   "cell_type": "code",
   "execution_count": null,
   "id": "7052fafa",
   "metadata": {},
   "outputs": [],
   "source": []
  }
 ],
 "metadata": {
  "kernelspec": {
   "display_name": "Python 3 (ipykernel)",
   "language": "python",
   "name": "python3"
  },
  "language_info": {
   "codemirror_mode": {
    "name": "ipython",
    "version": 3
   },
   "file_extension": ".py",
   "mimetype": "text/x-python",
   "name": "python",
   "nbconvert_exporter": "python",
   "pygments_lexer": "ipython3",
   "version": "3.10.9"
  }
 },
 "nbformat": 4,
 "nbformat_minor": 5
}
