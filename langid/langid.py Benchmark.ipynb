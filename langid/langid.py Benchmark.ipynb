{
 "cells": [
  {
   "cell_type": "code",
   "execution_count": 24,
   "id": "daa45f4e",
   "metadata": {},
   "outputs": [],
   "source": [
    "import langid"
   ]
  },
  {
   "cell_type": "code",
   "execution_count": 25,
   "id": "fe632454",
   "metadata": {},
   "outputs": [],
   "source": [
    "langid.load_model('model')"
   ]
  },
  {
   "cell_type": "code",
   "execution_count": 27,
   "id": "bbbadfbf",
   "metadata": {},
   "outputs": [
    {
     "ename": "TypeError",
     "evalue": "can only concatenate str (not \"float\") to str",
     "output_type": "error",
     "traceback": [
      "\u001b[1;31m---------------------------------------------------------------------------\u001b[0m",
      "\u001b[1;31mTypeError\u001b[0m                                 Traceback (most recent call last)",
      "Cell \u001b[1;32mIn[27], line 17\u001b[0m\n\u001b[0;32m     14\u001b[0m     \u001b[38;5;28;01mif\u001b[39;00m(prediction[\u001b[38;5;241m0\u001b[39m] \u001b[38;5;241m==\u001b[39m sentence[\u001b[38;5;241m0\u001b[39m]):\n\u001b[0;32m     15\u001b[0m         correct \u001b[38;5;241m+\u001b[39m\u001b[38;5;241m=\u001b[39m \u001b[38;5;241m1\u001b[39m\n\u001b[1;32m---> 17\u001b[0m \u001b[38;5;28mprint\u001b[39m(\u001b[38;5;124;43m\"\u001b[39;49m\u001b[38;5;124;43mAccuracy: \u001b[39;49m\u001b[38;5;124;43m\"\u001b[39;49m\u001b[43m \u001b[49m\u001b[38;5;241;43m+\u001b[39;49m\u001b[43m \u001b[49m\u001b[43mcorrect\u001b[49m\u001b[38;5;241;43m/\u001b[39;49m\u001b[43mcount\u001b[49m)\n",
      "\u001b[1;31mTypeError\u001b[0m: can only concatenate str (not \"float\") to str"
     ]
    }
   ],
   "source": [
    "f = open(\"langid_testing_data.txt\", \"r\", encoding=\"utf-8\")\n",
    "count = 0\n",
    "correct = 0\n",
    "\n",
    "while True:\n",
    "    line = f.readline()\n",
    "    sentence = line.split(\",\")\n",
    "    \n",
    "    if not line:\n",
    "        break\n",
    "        \n",
    "    count += 1\n",
    "    prediction = langid.identifier.classify(sentence[1])\n",
    "    if(prediction[0] == sentence[0]):\n",
    "        correct += 1\n",
    "\n",
    "print(\"Accuracy: \" + str(correct/count))\n",
    "        "
   ]
  },
  {
   "cell_type": "code",
   "execution_count": null,
   "id": "07ff8e49",
   "metadata": {},
   "outputs": [],
   "source": []
  }
 ],
 "metadata": {
  "kernelspec": {
   "display_name": "Python 3 (ipykernel)",
   "language": "python",
   "name": "python3"
  },
  "language_info": {
   "codemirror_mode": {
    "name": "ipython",
    "version": 3
   },
   "file_extension": ".py",
   "mimetype": "text/x-python",
   "name": "python",
   "nbconvert_exporter": "python",
   "pygments_lexer": "ipython3",
   "version": "3.10.9"
  }
 },
 "nbformat": 4,
 "nbformat_minor": 5
}
