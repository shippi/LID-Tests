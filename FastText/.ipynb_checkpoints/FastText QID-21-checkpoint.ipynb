{
 "cells": [
  {
   "cell_type": "code",
   "execution_count": 1,
   "id": "33939d1f",
   "metadata": {},
   "outputs": [],
   "source": [
    "import string\n",
    "import pandas as pd\n",
    "import numpy\n",
    "import scipy\n",
    "import fasttext\n",
    "from sklearn.model_selection import train_test_split"
   ]
  },
  {
   "cell_type": "code",
   "execution_count": 2,
   "id": "5664add6",
   "metadata": {},
   "outputs": [],
   "source": [
    "with open(\"../test.trg\") as f:\n",
    "    lan_code = f.read().splitlines()\n",
    "    \n",
    "with open(\"../test.src\", encoding=\"utf-8\") as f:\n",
    "    query = f.read().splitlines()\n",
    "    \n",
    "df =  pd.DataFrame(list(zip(lan_code, query)), columns=['lan_code','query'])\n"
   ]
  },
  {
   "cell_type": "code",
   "execution_count": 8,
   "id": "9b328540",
   "metadata": {},
   "outputs": [],
   "source": [
    "\n",
    "PUNCTUATION = \"!\\\"#$%&'()*+,-./:;<=>?@[\\]^_`{|}~？。！0123456789\"\n",
    "def format_text(text):\n",
    "    text.lower()\n",
    "    for pun in PUNCTUATION:\n",
    "        text = text.replace(pun, \"\")\n",
    "    return text\n",
    "\n",
    "df['query'] = df['query'].apply(format_text)"
   ]
  },
  {
   "cell_type": "code",
   "execution_count": 9,
   "id": "2c26d349",
   "metadata": {},
   "outputs": [],
   "source": [
    "df['final_data'] = \"__label__\"+ df['lan_code'] + \" \" + df['query']\n",
    "\n",
    "train, test = train_test_split(df, test_size=0.3)\n",
    "\n",
    "train.to_csv('QID21_training_data.txt', encoding=\"utf-8\",columns=['final_data'],index=False,header=False)\n",
    "test.to_csv('QID21_testing_data.txt', encoding=\"utf-8\",columns=['final_data'],index=False,header=False)"
   ]
  },
  {
   "cell_type": "code",
   "execution_count": 10,
   "id": "6f3c324c",
   "metadata": {},
   "outputs": [],
   "source": [
    "myModel = fasttext.train_supervised(input=\"QID21_training_data.txt\")"
   ]
  },
  {
   "cell_type": "code",
   "execution_count": 11,
   "id": "0a3cc8ae",
   "metadata": {},
   "outputs": [
    {
     "data": {
      "text/plain": [
       "(7030, 0.39672830725462305, 0.39672830725462305)"
      ]
     },
     "execution_count": 11,
     "metadata": {},
     "output_type": "execute_result"
    }
   ],
   "source": [
    "myModel.test(\"QID21_testing_data.txt\")"
   ]
  },
  {
   "cell_type": "code",
   "execution_count": 12,
   "id": "729cd833",
   "metadata": {},
   "outputs": [
    {
     "data": {
      "text/plain": [
       "(('__label__zh',), array([0.20694456]))"
      ]
     },
     "execution_count": 12,
     "metadata": {},
     "output_type": "execute_result"
    }
   ],
   "source": [
    "myModel.predict(\"hola\")"
   ]
  },
  {
   "cell_type": "code",
   "execution_count": null,
   "id": "3aa1d0f1",
   "metadata": {},
   "outputs": [],
   "source": []
  }
 ],
 "metadata": {
  "kernelspec": {
   "display_name": "Python 3 (ipykernel)",
   "language": "python",
   "name": "python3"
  },
  "language_info": {
   "codemirror_mode": {
    "name": "ipython",
    "version": 3
   },
   "file_extension": ".py",
   "mimetype": "text/x-python",
   "name": "python",
   "nbconvert_exporter": "python",
   "pygments_lexer": "ipython3",
   "version": "3.10.9"
  }
 },
 "nbformat": 4,
 "nbformat_minor": 5
}
