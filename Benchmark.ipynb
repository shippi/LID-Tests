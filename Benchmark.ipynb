{
 "cells": [
  {
   "cell_type": "code",
   "execution_count": 1,
   "id": "3b512de7",
   "metadata": {},
   "outputs": [],
   "source": [
    "import string\n",
    "import pandas as pd\n",
    "import numpy\n",
    "import scipy\n",
    "import fasttext\n",
    "from sklearn.model_selection import train_test_split"
   ]
  },
  {
   "cell_type": "markdown",
   "id": "7b28d269",
   "metadata": {},
   "source": [
    "# 1. Preprocessing Data\n",
    "## 1.1 Removing punctuation "
   ]
  },
  {
   "cell_type": "code",
   "execution_count": 2,
   "id": "4f18b384",
   "metadata": {
    "scrolled": true
   },
   "outputs": [],
   "source": [
    "df = pd.read_csv('sentences.csv')\n",
    "df = df.drop(columns=['id'])"
   ]
  },
  {
   "cell_type": "code",
   "execution_count": 3,
   "id": "e9422932",
   "metadata": {},
   "outputs": [],
   "source": [
    "PUNCTUATION = \"!\\\"#$%&'()*+,-./:;<=>?@[\\]^_`{|}~？。！\"\n",
    "def format_text(text):\n",
    "    text.lower()\n",
    "    for pun in PUNCTUATION:\n",
    "        text = text.replace(pun, \"\")\n",
    "    return text"
   ]
  },
  {
   "cell_type": "code",
   "execution_count": 4,
   "id": "8a6ba0b9",
   "metadata": {},
   "outputs": [],
   "source": [
    "df['sentence'] = df['sentence'].apply(format_text)"
   ]
  },
  {
   "cell_type": "markdown",
   "id": "966c5ce8",
   "metadata": {},
   "source": [
    "## 1.2 Filter out sentences longer than 20 characters"
   ]
  },
  {
   "cell_type": "code",
   "execution_count": 5,
   "id": "7bf55aba",
   "metadata": {},
   "outputs": [],
   "source": [
    "df_filtered = df[df['sentence'].str.len() < 20] "
   ]
  },
  {
   "cell_type": "markdown",
   "id": "f80aaacd",
   "metadata": {},
   "source": [
    "## 1.3 Filter out languages with less than 50000 rows"
   ]
  },
  {
   "cell_type": "code",
   "execution_count": 6,
   "id": "e67e228f",
   "metadata": {},
   "outputs": [
    {
     "data": {
      "text/html": [
       "<div>\n",
       "<style scoped>\n",
       "    .dataframe tbody tr th:only-of-type {\n",
       "        vertical-align: middle;\n",
       "    }\n",
       "\n",
       "    .dataframe tbody tr th {\n",
       "        vertical-align: top;\n",
       "    }\n",
       "\n",
       "    .dataframe thead th {\n",
       "        text-align: right;\n",
       "    }\n",
       "</style>\n",
       "<table border=\"1\" class=\"dataframe\">\n",
       "  <thead>\n",
       "    <tr style=\"text-align: right;\">\n",
       "      <th></th>\n",
       "      <th>sentence</th>\n",
       "    </tr>\n",
       "    <tr>\n",
       "      <th>lan_code</th>\n",
       "      <th></th>\n",
       "    </tr>\n",
       "  </thead>\n",
       "  <tbody>\n",
       "    <tr>\n",
       "      <th>ber</th>\n",
       "      <td>107783</td>\n",
       "    </tr>\n",
       "    <tr>\n",
       "      <th>cmn</th>\n",
       "      <td>68343</td>\n",
       "    </tr>\n",
       "    <tr>\n",
       "      <th>eng</th>\n",
       "      <td>149655</td>\n",
       "    </tr>\n",
       "    <tr>\n",
       "      <th>epo</th>\n",
       "      <td>79445</td>\n",
       "    </tr>\n",
       "    <tr>\n",
       "      <th>fra</th>\n",
       "      <td>59371</td>\n",
       "    </tr>\n",
       "    <tr>\n",
       "      <th>heb</th>\n",
       "      <td>79298</td>\n",
       "    </tr>\n",
       "    <tr>\n",
       "      <th>hun</th>\n",
       "      <td>75734</td>\n",
       "    </tr>\n",
       "    <tr>\n",
       "      <th>ita</th>\n",
       "      <td>128868</td>\n",
       "    </tr>\n",
       "    <tr>\n",
       "      <th>jpn</th>\n",
       "      <td>158953</td>\n",
       "    </tr>\n",
       "    <tr>\n",
       "      <th>kab</th>\n",
       "      <td>154835</td>\n",
       "    </tr>\n",
       "    <tr>\n",
       "      <th>por</th>\n",
       "      <td>53558</td>\n",
       "    </tr>\n",
       "    <tr>\n",
       "      <th>rus</th>\n",
       "      <td>170311</td>\n",
       "    </tr>\n",
       "    <tr>\n",
       "      <th>spa</th>\n",
       "      <td>52397</td>\n",
       "    </tr>\n",
       "    <tr>\n",
       "      <th>tur</th>\n",
       "      <td>98044</td>\n",
       "    </tr>\n",
       "    <tr>\n",
       "      <th>ukr</th>\n",
       "      <td>50913</td>\n",
       "    </tr>\n",
       "  </tbody>\n",
       "</table>\n",
       "</div>"
      ],
      "text/plain": [
       "          sentence\n",
       "lan_code          \n",
       "ber         107783\n",
       "cmn          68343\n",
       "eng         149655\n",
       "epo          79445\n",
       "fra          59371\n",
       "heb          79298\n",
       "hun          75734\n",
       "ita         128868\n",
       "jpn         158953\n",
       "kab         154835\n",
       "por          53558\n",
       "rus         170311\n",
       "spa          52397\n",
       "tur          98044\n",
       "ukr          50913"
      ]
     },
     "execution_count": 6,
     "metadata": {},
     "output_type": "execute_result"
    }
   ],
   "source": [
    "df_filtered2 = df_filtered.groupby('lan_code').filter(lambda x : len(x) > 50000)\n",
    "df_filtered2.groupby('lan_code').count()"
   ]
  },
  {
   "cell_type": "markdown",
   "id": "8c54eca0",
   "metadata": {},
   "source": [
    "## 1.4 Splitting into training and testing data"
   ]
  },
  {
   "cell_type": "code",
   "execution_count": 7,
   "id": "166a5435",
   "metadata": {},
   "outputs": [],
   "source": [
    "df_filtered2['final_data'] = \"__label__\"+df_filtered2['lan_code']+\" \"+df_filtered2['sentence']\n",
    "\n",
    "train, test = train_test_split(df_filtered2, test_size=0.3)\n",
    "\n",
    "train.to_csv('training_data.txt', encoding=\"utf-8\",columns=['final_data'],index=False,header=False)\n",
    "test.to_csv('testing_data.txt', encoding=\"utf-8\",columns=['final_data'],index=False,header=False)"
   ]
  },
  {
   "cell_type": "markdown",
   "id": "3244abda",
   "metadata": {},
   "source": [
    "### 1.4.1 Training data"
   ]
  },
  {
   "cell_type": "code",
   "execution_count": 8,
   "id": "0dae4dc4",
   "metadata": {},
   "outputs": [
    {
     "name": "stdout",
     "output_type": "stream",
     "text": [
      "          sentence  final_data\n",
      "lan_code                      \n",
      "ber          75221       75221\n",
      "cmn          47987       47987\n",
      "eng         104669      104669\n",
      "epo          55669       55669\n",
      "fra          41663       41663\n",
      "heb          55593       55593\n",
      "hun          53219       53219\n",
      "ita          90185       90185\n",
      "jpn         111348      111348\n",
      "kab         108080      108080\n",
      "por          37481       37481\n",
      "rus         119055      119055\n",
      "spa          36652       36652\n",
      "tur          68764       68764\n",
      "ukr          35669       35669\n"
     ]
    }
   ],
   "source": [
    "print(train.groupby('lan_code').count())"
   ]
  },
  {
   "cell_type": "markdown",
   "id": "930774b2",
   "metadata": {},
   "source": [
    "### 1.4.2 Testing data"
   ]
  },
  {
   "cell_type": "code",
   "execution_count": 9,
   "id": "d71fb380",
   "metadata": {},
   "outputs": [
    {
     "name": "stdout",
     "output_type": "stream",
     "text": [
      "          sentence  final_data\n",
      "lan_code                      \n",
      "ber          32562       32562\n",
      "cmn          20356       20356\n",
      "eng          44986       44986\n",
      "epo          23776       23776\n",
      "fra          17708       17708\n",
      "heb          23705       23705\n",
      "hun          22515       22515\n",
      "ita          38683       38683\n",
      "jpn          47605       47605\n",
      "kab          46755       46755\n",
      "por          16077       16077\n",
      "rus          51256       51256\n",
      "spa          15745       15745\n",
      "tur          29280       29280\n",
      "ukr          15244       15244\n"
     ]
    }
   ],
   "source": [
    "print(test.groupby('lan_code').count())"
   ]
  },
  {
   "cell_type": "markdown",
   "id": "f9fb7e07",
   "metadata": {},
   "source": [
    "# 2 Training Model"
   ]
  },
  {
   "cell_type": "markdown",
   "id": "5646a05c",
   "metadata": {},
   "source": [
    "## 2.1 Training FastText model using training data"
   ]
  },
  {
   "cell_type": "code",
   "execution_count": 10,
   "id": "fde30e21",
   "metadata": {},
   "outputs": [],
   "source": [
    "myModel = fasttext.train_supervised(input=\"training_data.txt\")"
   ]
  },
  {
   "cell_type": "markdown",
   "id": "02f3bf7e",
   "metadata": {},
   "source": [
    "## 2.1 Testing trained FastText model using testing data"
   ]
  },
  {
   "cell_type": "code",
   "execution_count": 11,
   "id": "5a894e10",
   "metadata": {},
   "outputs": [
    {
     "data": {
      "text/plain": [
       "(446253, 0.8781431161247095, 0.8781431161247095)"
      ]
     },
     "execution_count": 11,
     "metadata": {},
     "output_type": "execute_result"
    }
   ],
   "source": [
    "myModel.test(\"testing_data.txt\")"
   ]
  },
  {
   "cell_type": "code",
   "execution_count": 12,
   "id": "46f24dea",
   "metadata": {},
   "outputs": [
    {
     "data": {
      "text/plain": [
       "(('__label__spa',), array([0.999529]))"
      ]
     },
     "execution_count": 12,
     "metadata": {},
     "output_type": "execute_result"
    }
   ],
   "source": [
    "myModel.predict(\"hola\")"
   ]
  }
 ],
 "metadata": {
  "kernelspec": {
   "display_name": "Python 3 (ipykernel)",
   "language": "python",
   "name": "python3"
  },
  "language_info": {
   "codemirror_mode": {
    "name": "ipython",
    "version": 3
   },
   "file_extension": ".py",
   "mimetype": "text/x-python",
   "name": "python",
   "nbconvert_exporter": "python",
   "pygments_lexer": "ipython3",
   "version": "3.10.9"
  }
 },
 "nbformat": 4,
 "nbformat_minor": 5
}
